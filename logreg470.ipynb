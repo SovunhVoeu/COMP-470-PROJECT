{
 "cells": [
  {
   "cell_type": "code",
   "execution_count": null,
   "id": "16c527fe-a4b2-4a41-96b2-64a8394c16f7",
   "metadata": {},
   "outputs": [],
   "source": [
    "import pandas as pd\n",
    "from sklearn.model_selection import train_test_split\n",
    "from sklearn.preprocessing import LabelEncoder, StandardScaler\n",
    "from sklearn.linear_model import LogisticRegression\n",
    "from sklearn.metrics import classification_report, accuracy_score"
   ]
  },
  {
   "cell_type": "code",
   "execution_count": 2,
   "id": "dbcedfdf-556c-41b7-8e51-b297b119e19d",
   "metadata": {},
   "outputs": [
    {
     "ename": "NameError",
     "evalue": "name 'pd' is not defined",
     "output_type": "error",
     "traceback": [
      "\u001b[1;31m---------------------------------------------------------------------------\u001b[0m",
      "\u001b[1;31mNameError\u001b[0m                                 Traceback (most recent call last)",
      "Cell \u001b[1;32mIn[2], line 2\u001b[0m\n\u001b[0;32m      1\u001b[0m \u001b[38;5;66;03m#load the data\u001b[39;00m\n\u001b[1;32m----> 2\u001b[0m data \u001b[38;5;241m=\u001b[39m \u001b[43mpd\u001b[49m\u001b[38;5;241m.\u001b[39mread_csv(\u001b[38;5;124m'\u001b[39m\u001b[38;5;124mweatherHistory.csv\u001b[39m\u001b[38;5;124m'\u001b[39m)\n",
      "\u001b[1;31mNameError\u001b[0m: name 'pd' is not defined"
     ]
    }
   ],
   "source": [
    "#load the data\n",
    "data = pd.read_csv('weatherHistory.csv')"
   ]
  },
  {
   "cell_type": "code",
   "execution_count": null,
   "id": "054a4d13-3348-416a-a588-af53041f5e0b",
   "metadata": {},
   "outputs": [],
   "source": [
    "#preprocessing/dropping unneccesary columns\n",
    "data = data.drop(columns=['Formatted Date', 'Daily Summary', 'Loud Cover'])\n",
    "data = data.dropna()\n",
    "\n",
    "#encoding columns\n",
    "label_encoder = LabelEncoder()\n",
    "data['Summary'] = label_encoder.fit_transform(data['Summary']) #just a summary\n",
    "data['Precip Type'] = label_encoder.fit_transform(data['Precip Type'])\n",
    "\n",
    "#standardize\n",
    "scaler = StandardScaler()\n",
    "numerical_cols = ['Temperature (C)', 'Apparent Temperature (C)', 'Humidity', \n",
    "                  'Wind Speed (km/h)', 'Wind Bearing (degrees)', 'Visibility (km)', 'Pressure (millibars)']\n",
    "data[numerical_cols] = scaler.fit_transform(data[numerical_cols])"
   ]
  },
  {
   "cell_type": "code",
   "execution_count": null,
   "id": "39e5bee8-a899-4da3-b61c-53c66a28aad3",
   "metadata": {},
   "outputs": [],
   "source": [
    "#real meaty stuff now\n",
    "#define X and y(target)\n",
    "X = data.drop(columns=['Precip Type'])\n",
    "y = data['Precip Type'] #target"
   ]
  },
  {
   "cell_type": "code",
   "execution_count": null,
   "id": "a97c75d8-4d54-4293-8d24-eabbd40ee66c",
   "metadata": {},
   "outputs": [],
   "source": [
    "#testing/training split\n",
    "X_train, X_test, y_train, y_test = train_test_split(X, y, test_size=0.3, random_state=42)"
   ]
  },
  {
   "cell_type": "code",
   "execution_count": null,
   "id": "90c521b5-04bd-44b8-bb24-f3e4ca783f06",
   "metadata": {},
   "outputs": [],
   "source": [
    "#actually train the damn thing(i *think* we got the values correct)\n",
    "clf = LogisticRegression(max_iter=1000)\n",
    "clf.fit(X_train, y_train)"
   ]
  },
  {
   "cell_type": "code",
   "execution_count": null,
   "id": "6d63a102-cdea-474f-9ffb-d515daf10f01",
   "metadata": {},
   "outputs": [],
   "source": [
    "y_pred = clf.predict(X_test)\n",
    "\n",
    "#print out results\n",
    "print(\"Classification Report:\")\n",
    "print(classification_report(y_test, y_pred))\n",
    "print(\"Accuracy Score:\", accuracy_score(y_test, y_pred))"
   ]
  }
 ],
 "metadata": {
  "kernelspec": {
   "display_name": "Python 3 (ipykernel)",
   "language": "python",
   "name": "python3"
  },
  "language_info": {
   "codemirror_mode": {
    "name": "ipython",
    "version": 3
   },
   "file_extension": ".py",
   "mimetype": "text/x-python",
   "name": "python",
   "nbconvert_exporter": "python",
   "pygments_lexer": "ipython3",
   "version": "3.12.2"
  }
 },
 "nbformat": 4,
 "nbformat_minor": 5
}
